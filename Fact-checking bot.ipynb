{
 "cells": [
  {
   "cell_type": "code",
   "execution_count": 7,
   "metadata": {},
   "outputs": [
    {
     "name": "stdout",
     "output_type": "stream",
     "text": [
      "Requirement already satisfied: feedparser in /Users/sherrelldorsey1/anaconda3/lib/python3.6/site-packages\n",
      "Collecting pip\n",
      "  Downloading https://files.pythonhosted.org/packages/0f/74/ecd13431bcc456ed390b44c8a6e917c1820365cbebcb6a8974d1cd045ab4/pip-10.0.1-py2.py3-none-any.whl (1.3MB)\n",
      "Installing collected packages: pip\n",
      "  Found existing installation: pip 9.0.1\n",
      "    Uninstalling pip-9.0.1:\n",
      "      Successfully uninstalled pip-9.0.1\n",
      "Successfully installed pip-10.0.1\n"
     ]
    },
    {
     "name": "stderr",
     "output_type": "stream",
     "text": [
      "You are using pip version 9.0.1, however version 10.0.1 is available.\n",
      "You should consider upgrading via the 'pip install --upgrade pip' command.\n"
     ]
    }
   ],
   "source": [
    "%%sh\n",
    "\n",
    "pip install feedparser\n",
    "pip install --upgrade pip\n"
   ]
  },
  {
   "cell_type": "code",
   "execution_count": 13,
   "metadata": {},
   "outputs": [],
   "source": [
    "CONSUMER_KEY = \"EhB0LYCfw2tKd0j4aFwsAvs5h\"\n",
    "CONSUMER_SECRET = \"rgdDMGl87tjRYxAQPB7juSu3forFHBXJ1HDw5i2SwCctby6J38\"\n",
    "ACCESS_TOKEN = \"961741883562168320-fxxm3BT9ywsXbOShBdbarVABpZSwWGw\"\n",
    "ACCESS_TOKEN_SECRET = \"miOImdNnIHs2EX8GV0SKPg1lDcz41MICdnY7U8ss6pDMd\""
   ]
  },
  {
   "cell_type": "code",
   "execution_count": 14,
   "metadata": {},
   "outputs": [],
   "source": [
    "from tweepy import OAuthHandler, API\n",
    "\n",
    "auth = OAuthHandler(CONSUMER_KEY, CONSUMER_SECRET)\n",
    "auth.set_access_token(ACCESS_TOKEN, ACCESS_TOKEN_SECRET)\n",
    "\n",
    "api = API(auth)"
   ]
  },
  {
   "cell_type": "code",
   "execution_count": 17,
   "metadata": {},
   "outputs": [
    {
     "name": "stdout",
     "output_type": "stream",
     "text": [
      "PolitiFact: Guest column: Fact-checking made easy\n"
     ]
    }
   ],
   "source": [
    "from feedparser import parse\n",
    "\n",
    "politifact_rss_url = 'http://www.politifact.com/feeds/articles/truth-o-meter/'\n",
    "\n",
    "feed = parse(politifact_rss_url)\n",
    "\n",
    "politifact_stories = feed['entries'][1]\n",
    "\n",
    "print('PolitiFact: '+ politifact_stories['title'])"
   ]
  },
  {
   "cell_type": "code",
   "execution_count": 18,
   "metadata": {},
   "outputs": [
    {
     "name": "stdout",
     "output_type": "stream",
     "text": [
      "What the law says about James Comey’s leaked memos\n",
      "http://www.politifact.com/truth-o-meter/article/2018/apr/24/what-law-says-about-james-comeys-leaked-memos/\n",
      "--\n",
      "Guest column: Fact-checking made easy\n",
      "http://www.politifact.com/truth-o-meter/article/2018/apr/24/guest-column-fact-checking-made-easy/\n",
      "--\n",
      "What the U.S. Supreme Court decision means for the deportation of criminal immigrants\n",
      "http://www.politifact.com/truth-o-meter/article/2018/apr/23/what-us-supreme-court-decision-means-deportation-c/\n",
      "--\n",
      "The James Comey book: &#39;A Higher Loyalty&#39;\n",
      "http://www.politifact.com/truth-o-meter/article/2018/apr/19/james-comey-book-higher-loyalty/\n",
      "--\n",
      "Is North Korea ready to scrap its nuclear weapons?\n",
      "http://www.politifact.com/truth-o-meter/article/2018/apr/19/north-korea-scrap-nuclear-weapons/\n",
      "--\n",
      "Fact-checking Donald Trump’s tweets about former FBI Director James Comey\n",
      "http://www.politifact.com/truth-o-meter/article/2018/apr/18/fact-checking-donald-trumps-tweets-about-former-fb/\n",
      "--\n",
      "Can Donald Trump fire Special Counsel Robert Mueller?\n",
      "http://www.politifact.com/truth-o-meter/article/2018/apr/12/can-donald-trump-fire-special-counsel-robert-muell/\n",
      "--\n",
      "Fact-checking Facebook CEO Mark Zuckerberg&#39;s congressional testimony\n",
      "http://www.politifact.com/truth-o-meter/article/2018/apr/12/fact-checking-facebook-ceo-zuckerbergs-testimony/\n",
      "--\n",
      "Fact-check: Donald Trump’s defense of Scott Pruitt’s rent, security, EPA record\n",
      "http://www.politifact.com/truth-o-meter/article/2018/apr/11/fact-check-donald-trumps-defense-scott-pruitts-ren/\n",
      "--\n",
      "A closer look at attorney-client privilege after raid of Donald Trump’s lawyer\n",
      "http://www.politifact.com/truth-o-meter/article/2018/apr/10/closer-look-attorney-client-privilege-after-raid-d/\n",
      "--\n",
      "Can President Donald Trump send the military to secure the border?\n",
      "http://www.politifact.com/truth-o-meter/article/2018/apr/04/can-president-donald-trump-send-military-secure-bo/\n",
      "--\n",
      "Oklahoma teacher pay dispute: Does cost of living make a difference?\n",
      "http://www.politifact.com/truth-o-meter/article/2018/apr/04/oklahoma-teacher-pay-dispute-cost-of-living-calcul/\n",
      "--\n",
      "Fact-checking Donald Trump’s tweets about the border, DACA\n",
      "http://www.politifact.com/truth-o-meter/article/2018/apr/02/fact-checking-donald-trumps-tweets-about-border-da/\n",
      "--\n",
      "Celebrate International Fact-checking Day: Avoid falling for fake news\n",
      "http://www.politifact.com/truth-o-meter/article/2018/apr/02/how-avoid-falling-fake-news/\n",
      "--\n",
      "The facts behind Trump’s jabs at Amazon on taxes, USPS and lost retail jobs\n",
      "http://www.politifact.com/truth-o-meter/article/2018/mar/29/facts-donald-trump-amazon-taxes-usps-retail/\n",
      "--\n",
      "What you need to know about the Census’ citizenship question\n",
      "http://www.politifact.com/truth-o-meter/article/2018/mar/28/what-you-need-know-about-census-citizenship-questi/\n",
      "--\n",
      "Spending bill&#39;s gun research line: Does it nullify Dickey amendment?\n",
      "http://www.politifact.com/truth-o-meter/article/2018/mar/27/spending-bills-gun-research-line-does-it-matter/\n",
      "--\n",
      "Does Mike Pence call his wife ‘Mother’?\n",
      "http://www.politifact.com/truth-o-meter/article/2018/mar/27/does-mike-pence-call-his-wife-mother/\n",
      "--\n",
      "A closer look at Patrick Morrisey&#39;s family ties to &#39;big pharma&#39;\n",
      "http://www.politifact.com/truth-o-meter/article/2018/mar/27/closer-look-patrick-morriseys-family-ties-big-phar/\n",
      "--\n",
      "Fact-checking the March For Our Lives\n",
      "http://www.politifact.com/truth-o-meter/article/2018/mar/24/fact-checking-march-our-lives/\n",
      "--\n"
     ]
    }
   ],
   "source": [
    "for entry in feed['entries']:\n",
    "    print(entry['title'])\n",
    "    print(entry['link'])\n",
    "    print('--')"
   ]
  },
  {
   "cell_type": "code",
   "execution_count": 19,
   "metadata": {},
   "outputs": [],
   "source": [
    "from requests import get\n",
    "from bs4 import BeautifulSoup"
   ]
  },
  {
   "cell_type": "code",
   "execution_count": 20,
   "metadata": {},
   "outputs": [
    {
     "name": "stdout",
     "output_type": "stream",
     "text": [
      "http://schema.org/ClaimReview\n",
      "http://schema.org/Organization\n",
      "http://schema.org/Rating\n",
      "http://schema.org/CreativeWork\n",
      "http://schema.org/Person\n"
     ]
    }
   ],
   "source": [
    "#checking for claimreview here \n",
    "url = 'http://www.politifact.com/truth-o-meter/statements/2018/apr/24/ro-khanna/are-most-our-taxes-spent-war-terror-no/'\n",
    "\n",
    "response = get(url)\n",
    "soup = BeautifulSoup(response.text, 'html.parser')\n",
    "\n",
    "for tag in soup.find_all(attrs={\"itemscope\": True}):\n",
    "    print(tag['itemtype'])"
   ]
  },
  {
   "cell_type": "code",
   "execution_count": 22,
   "metadata": {},
   "outputs": [
    {
     "name": "stdout",
     "output_type": "stream",
     "text": [
      "<div itemprop=\"datePublished\" style=\"display: none;\">\n",
      " 2018-04-24 19:54:16 UTC\n",
      "</div>\n",
      "\n",
      "<div itemprop=\"author\" itemscope=\"\" itemtype=\"http://schema.org/Organization\" style=\"display: none;\">\n",
      " <div itemprop=\"name\">\n",
      "  <a href=\"https://www.politifact.com\" itemprop=\"url\">\n",
      "   PolitiFact\n",
      "  </a>\n",
      " </div>\n",
      " <img alt=\"PolitiFact\" itemprop=\"image\" src=\"http://static.politifact.com/mediapage/jpgs/politifact-logo-big.jpg\"/>\n",
      "</div>\n",
      "\n",
      "<div itemprop=\"name\">\n",
      " <a href=\"https://www.politifact.com\" itemprop=\"url\">\n",
      "  PolitiFact\n",
      " </a>\n",
      "</div>\n",
      "\n",
      "<a href=\"https://www.politifact.com\" itemprop=\"url\">\n",
      " PolitiFact\n",
      "</a>\n",
      "<img alt=\"PolitiFact\" itemprop=\"image\" src=\"http://static.politifact.com/mediapage/jpgs/politifact-logo-big.jpg\"/>\n",
      "\n",
      "<div itemprop=\"reviewRating\" itemscope=\"\" itemtype=\"http://schema.org/Rating\" style=\"font-size: 14px; margin: 0px, 0px, 0px, 0px\">\n",
      " <div itemprop=\"ratingValue\" style=\"display: none;\">\n",
      "  2\n",
      " </div>\n",
      " <div itemprop=\"worstRating\" style=\"display: none;\">\n",
      "  1\n",
      " </div>\n",
      " <div itemprop=\"bestRating\" style=\"display: none;\">\n",
      "  7\n",
      " </div>\n",
      " <img alt=\"PolitiFact rating logo\" itemprop=\"image\" src=\"https://dhpikd1t89arn.cloudfront.net/rating_images/politifact/tom-false.jpg\" style=\"display: none;\"/>\n",
      " PolitiFact Rating:\n",
      " <div itemprop=\"alternateName\" style=\"font-weight: bold\">\n",
      "  False\n",
      " </div>\n",
      "</div>\n",
      "\n",
      "<div itemprop=\"ratingValue\" style=\"display: none;\">\n",
      " 2\n",
      "</div>\n",
      "\n",
      "<div itemprop=\"worstRating\" style=\"display: none;\">\n",
      " 1\n",
      "</div>\n",
      "\n",
      "<div itemprop=\"bestRating\" style=\"display: none;\">\n",
      " 7\n",
      "</div>\n",
      "\n",
      "<img alt=\"PolitiFact rating logo\" itemprop=\"image\" src=\"https://dhpikd1t89arn.cloudfront.net/rating_images/politifact/tom-false.jpg\" style=\"display: none;\"/>\n",
      "\n",
      "<div itemprop=\"alternateName\" style=\"font-weight: bold\">\n",
      " False\n",
      "</div>\n",
      "\n",
      "<div itemprop=\"claimReviewed\" style=\"margin: 20px 0px 10px 0px\">\n",
      " \"Most of our taxes are spent on the so-called ‘War on Terror.’\"\n",
      "</div>\n",
      "\n",
      "<div itemprop=\"itemReviewed\" itemscope=\"\" itemtype=\"http://schema.org/CreativeWork\">\n",
      " <div itemprop=\"author\" itemscope=\"\" itemtype=\"http://schema.org/Person\">\n",
      "  <div itemprop=\"name\">\n",
      "   Ro Khanna\n",
      "  </div>\n",
      "  <div itemprop=\"jobTitle\">\n",
      "   U.S. Representative, D-Calif.\n",
      "  </div>\n",
      "  <div itemprop=\"sameAs\" style=\"display: none;\">\n",
      "   https://www.facebook.com/RoKhannaUSA/photos/a.339679542745029.78030.317667194946264/1712756732103963/?type=3&amp;theater;\n",
      "  </div>\n",
      " </div>\n",
      " <img itemprop=\"image\" src=\"http://static.politifact.com.s3.amazonaws.com/politifact/mugs/Ro-Khanna-266x300.jpg\" style=\"display:none;\"/>\n",
      " <div itemprop=\"name\" style=\"margin: 5px 0px 0px 14px\">\n",
      "  a Facebook post\n",
      " </div>\n",
      " <div style=\"margin: 0px 0px 0px 14px\">\n",
      "  Thursday, April 19, 2018\n",
      " </div>\n",
      " <div itemprop=\"datePublished\" style=\"display: none;\">\n",
      "  2018-04-19\n",
      " </div>\n",
      "</div>\n",
      "\n",
      "<div itemprop=\"author\" itemscope=\"\" itemtype=\"http://schema.org/Person\">\n",
      " <div itemprop=\"name\">\n",
      "  Ro Khanna\n",
      " </div>\n",
      " <div itemprop=\"jobTitle\">\n",
      "  U.S. Representative, D-Calif.\n",
      " </div>\n",
      " <div itemprop=\"sameAs\" style=\"display: none;\">\n",
      "  https://www.facebook.com/RoKhannaUSA/photos/a.339679542745029.78030.317667194946264/1712756732103963/?type=3&amp;theater;\n",
      " </div>\n",
      "</div>\n",
      "\n",
      "<div itemprop=\"name\">\n",
      " Ro Khanna\n",
      "</div>\n",
      "\n",
      "<div itemprop=\"jobTitle\">\n",
      " U.S. Representative, D-Calif.\n",
      "</div>\n",
      "\n",
      "<div itemprop=\"sameAs\" style=\"display: none;\">\n",
      " https://www.facebook.com/RoKhannaUSA/photos/a.339679542745029.78030.317667194946264/1712756732103963/?type=3&amp;theater;\n",
      "</div>\n",
      "\n",
      "<img itemprop=\"image\" src=\"http://static.politifact.com.s3.amazonaws.com/politifact/mugs/Ro-Khanna-266x300.jpg\" style=\"display:none;\"/>\n",
      "\n",
      "<div itemprop=\"name\" style=\"margin: 5px 0px 0px 14px\">\n",
      " a Facebook post\n",
      "</div>\n",
      "\n",
      "<div itemprop=\"datePublished\" style=\"display: none;\">\n",
      " 2018-04-19\n",
      "</div>\n",
      "\n",
      "<a href=\"http://www.politifact.com/truth-o-meter/statements/2018/apr/24/ro-khanna/are-most-our-taxes-spent-war-terror-no/\" itemprop=\"url\">\n",
      " Read More\n",
      "</a>\n",
      "\n"
     ]
    }
   ],
   "source": [
    "for itemtype in soup.find_all(attrs={'itemtype': 'http://schema.org/ClaimReview'}):\n",
    "\n",
    "    for tag in itemtype.find_all(attrs={'itemprop': True}):\n",
    "        print(tag.prettify())"
   ]
  },
  {
   "cell_type": "code",
   "execution_count": 27,
   "metadata": {},
   "outputs": [
    {
     "ename": "TweepError",
     "evalue": "[{'code': 187, 'message': 'Status is a duplicate.'}]",
     "output_type": "error",
     "traceback": [
      "\u001b[0;31m---------------------------------------------------------------------------\u001b[0m",
      "\u001b[0;31mTweepError\u001b[0m                                Traceback (most recent call last)",
      "\u001b[0;32m<ipython-input-27-8ee781f750ef>\u001b[0m in \u001b[0;36m<module>\u001b[0;34m()\u001b[0m\n\u001b[1;32m     12\u001b[0m \u001b[0;34m\u001b[0m\u001b[0m\n\u001b[1;32m     13\u001b[0m \u001b[0;34m\u001b[0m\u001b[0m\n\u001b[0;32m---> 14\u001b[0;31m         \u001b[0mapi\u001b[0m\u001b[0;34m.\u001b[0m\u001b[0mupdate_status\u001b[0m\u001b[0;34m(\u001b[0m\u001b[0;34m'Alternate Name: '\u001b[0m \u001b[0;34m+\u001b[0m \u001b[0mstr\u001b[0m\u001b[0;34m(\u001b[0m\u001b[0mtag\u001b[0m\u001b[0;34m.\u001b[0m\u001b[0mtext\u001b[0m\u001b[0;34m)\u001b[0m \u001b[0;34m+\u001b[0m \u001b[0;34m'\\n'\u001b[0m\u001b[0;34m)\u001b[0m\u001b[0;34m\u001b[0m\u001b[0m\n\u001b[0m",
      "\u001b[0;32m~/anaconda3/lib/python3.6/site-packages/tweepy/api.py\u001b[0m in \u001b[0;36mupdate_status\u001b[0;34m(self, *args, **kwargs)\u001b[0m\n\u001b[1;32m    192\u001b[0m             \u001b[0mallowed_param\u001b[0m\u001b[0;34m=\u001b[0m\u001b[0;34m[\u001b[0m\u001b[0;34m'status'\u001b[0m\u001b[0;34m,\u001b[0m \u001b[0;34m'in_reply_to_status_id'\u001b[0m\u001b[0;34m,\u001b[0m \u001b[0;34m'in_reply_to_status_id_str'\u001b[0m\u001b[0;34m,\u001b[0m \u001b[0;34m'auto_populate_reply_metadata'\u001b[0m\u001b[0;34m,\u001b[0m \u001b[0;34m'lat'\u001b[0m\u001b[0;34m,\u001b[0m \u001b[0;34m'long'\u001b[0m\u001b[0;34m,\u001b[0m \u001b[0;34m'source'\u001b[0m\u001b[0;34m,\u001b[0m \u001b[0;34m'place_id'\u001b[0m\u001b[0;34m,\u001b[0m \u001b[0;34m'display_coordinates'\u001b[0m\u001b[0;34m]\u001b[0m\u001b[0;34m,\u001b[0m\u001b[0;34m\u001b[0m\u001b[0m\n\u001b[1;32m    193\u001b[0m             \u001b[0mrequire_auth\u001b[0m\u001b[0;34m=\u001b[0m\u001b[0;32mTrue\u001b[0m\u001b[0;34m\u001b[0m\u001b[0m\n\u001b[0;32m--> 194\u001b[0;31m         )(post_data=post_data, *args, **kwargs)\n\u001b[0m\u001b[1;32m    195\u001b[0m \u001b[0;34m\u001b[0m\u001b[0m\n\u001b[1;32m    196\u001b[0m     \u001b[0;32mdef\u001b[0m \u001b[0mmedia_upload\u001b[0m\u001b[0;34m(\u001b[0m\u001b[0mself\u001b[0m\u001b[0;34m,\u001b[0m \u001b[0mfilename\u001b[0m\u001b[0;34m,\u001b[0m \u001b[0;34m*\u001b[0m\u001b[0margs\u001b[0m\u001b[0;34m,\u001b[0m \u001b[0;34m**\u001b[0m\u001b[0mkwargs\u001b[0m\u001b[0;34m)\u001b[0m\u001b[0;34m:\u001b[0m\u001b[0;34m\u001b[0m\u001b[0m\n",
      "\u001b[0;32m~/anaconda3/lib/python3.6/site-packages/tweepy/binder.py\u001b[0m in \u001b[0;36m_call\u001b[0;34m(*args, **kwargs)\u001b[0m\n\u001b[1;32m    248\u001b[0m             \u001b[0;32mreturn\u001b[0m \u001b[0mmethod\u001b[0m\u001b[0;34m\u001b[0m\u001b[0m\n\u001b[1;32m    249\u001b[0m         \u001b[0;32melse\u001b[0m\u001b[0;34m:\u001b[0m\u001b[0;34m\u001b[0m\u001b[0m\n\u001b[0;32m--> 250\u001b[0;31m             \u001b[0;32mreturn\u001b[0m \u001b[0mmethod\u001b[0m\u001b[0;34m.\u001b[0m\u001b[0mexecute\u001b[0m\u001b[0;34m(\u001b[0m\u001b[0;34m)\u001b[0m\u001b[0;34m\u001b[0m\u001b[0m\n\u001b[0m\u001b[1;32m    251\u001b[0m \u001b[0;34m\u001b[0m\u001b[0m\n\u001b[1;32m    252\u001b[0m     \u001b[0;31m# Set pagination mode\u001b[0m\u001b[0;34m\u001b[0m\u001b[0;34m\u001b[0m\u001b[0m\n",
      "\u001b[0;32m~/anaconda3/lib/python3.6/site-packages/tweepy/binder.py\u001b[0m in \u001b[0;36mexecute\u001b[0;34m(self)\u001b[0m\n\u001b[1;32m    232\u001b[0m                     \u001b[0;32mraise\u001b[0m \u001b[0mRateLimitError\u001b[0m\u001b[0;34m(\u001b[0m\u001b[0merror_msg\u001b[0m\u001b[0;34m,\u001b[0m \u001b[0mresp\u001b[0m\u001b[0;34m)\u001b[0m\u001b[0;34m\u001b[0m\u001b[0m\n\u001b[1;32m    233\u001b[0m                 \u001b[0;32melse\u001b[0m\u001b[0;34m:\u001b[0m\u001b[0;34m\u001b[0m\u001b[0m\n\u001b[0;32m--> 234\u001b[0;31m                     \u001b[0;32mraise\u001b[0m \u001b[0mTweepError\u001b[0m\u001b[0;34m(\u001b[0m\u001b[0merror_msg\u001b[0m\u001b[0;34m,\u001b[0m \u001b[0mresp\u001b[0m\u001b[0;34m,\u001b[0m \u001b[0mapi_code\u001b[0m\u001b[0;34m=\u001b[0m\u001b[0mapi_error_code\u001b[0m\u001b[0;34m)\u001b[0m\u001b[0;34m\u001b[0m\u001b[0m\n\u001b[0m\u001b[1;32m    235\u001b[0m \u001b[0;34m\u001b[0m\u001b[0m\n\u001b[1;32m    236\u001b[0m             \u001b[0;31m# Parse the response payload\u001b[0m\u001b[0;34m\u001b[0m\u001b[0;34m\u001b[0m\u001b[0m\n",
      "\u001b[0;31mTweepError\u001b[0m: [{'code': 187, 'message': 'Status is a duplicate.'}]"
     ]
    }
   ],
   "source": [
    "for itemtype in soup.find_all(attrs={'itemtype': 'http://schema.org/ClaimReview'}):\n",
    "\n",
    "    for tag in itemtype.find_all(attrs={'itemprop': True}):\n",
    "        \n",
    "        itemprop = tag['itemprop']\n",
    "        \n",
    "        if itemprop =='claimReviewed':\n",
    "            print('Claim Reviewed: ' + str(tag.text) + '\\n')\n",
    "            \n",
    "        elif itemprop == 'author':\n",
    "            print('Author: ' + str(tag.text) + '\\n')\n",
    "            \n",
    " \n",
    "        api.update_status('Alternate Name: ' + str(tag.text) + '\\n')"
   ]
  },
  {
   "cell_type": "code",
   "execution_count": null,
   "metadata": {},
   "outputs": [],
   "source": []
  }
 ],
 "metadata": {
  "kernelspec": {
   "display_name": "Python 3",
   "language": "python",
   "name": "python3"
  },
  "language_info": {
   "codemirror_mode": {
    "name": "ipython",
    "version": 3
   },
   "file_extension": ".py",
   "mimetype": "text/x-python",
   "name": "python",
   "nbconvert_exporter": "python",
   "pygments_lexer": "ipython3",
   "version": "3.6.4"
  }
 },
 "nbformat": 4,
 "nbformat_minor": 2
}
